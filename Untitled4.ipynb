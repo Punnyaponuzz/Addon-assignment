{
  "nbformat": 4,
  "nbformat_minor": 0,
  "metadata": {
    "colab": {
      "provenance": []
    },
    "kernelspec": {
      "name": "python3",
      "display_name": "Python 3"
    },
    "language_info": {
      "name": "python"
    }
  },
  "cells": [
    {
      "cell_type": "code",
      "execution_count": null,
      "metadata": {
        "colab": {
          "base_uri": "https://localhost:8080/"
        },
        "id": "ooYVsCqAOxwf",
        "outputId": "5e7ee600-2fcd-42c1-e8c6-eb40f13c739f"
      },
      "outputs": [
        {
          "output_type": "stream",
          "name": "stdout",
          "text": [
            "python programming"
          ]
        }
      ],
      "source": [
        "word='python programming'\n",
        "for letter in word:\n",
        "  print(letter,end='')"
      ]
    },
    {
      "cell_type": "code",
      "source": [
        "word='python programming'\n",
        "for letter in word:\n",
        "  print(letter)"
      ],
      "metadata": {
        "colab": {
          "base_uri": "https://localhost:8080/"
        },
        "id": "nU8M_jRIOzw3",
        "outputId": "f167b7ca-6ba5-4106-c8af-19c02e029ce3"
      },
      "execution_count": null,
      "outputs": [
        {
          "output_type": "stream",
          "name": "stdout",
          "text": [
            "p\n",
            "y\n",
            "t\n",
            "h\n",
            "o\n",
            "n\n",
            " \n",
            "p\n",
            "r\n",
            "o\n",
            "g\n",
            "r\n",
            "a\n",
            "m\n",
            "m\n",
            "i\n",
            "n\n",
            "g\n"
          ]
        }
      ]
    },
    {
      "cell_type": "code",
      "source": [],
      "metadata": {
        "id": "4j9pHpTIO82r"
      },
      "execution_count": null,
      "outputs": []
    },
    {
      "cell_type": "code",
      "source": [
        "number =[1,2,3,4,5]\n",
        "sum=0\n",
        "for num in number:\n",
        "  sum =sum+num\n",
        "  print(sum)"
      ],
      "metadata": {
        "colab": {
          "base_uri": "https://localhost:8080/"
        },
        "id": "QR0UXGUGPBrk",
        "outputId": "5d229d94-5bbd-4fc4-b9ef-ad35ed5cf37b"
      },
      "execution_count": null,
      "outputs": [
        {
          "output_type": "stream",
          "name": "stdout",
          "text": [
            "1\n",
            "3\n",
            "6\n",
            "10\n",
            "15\n"
          ]
        }
      ]
    },
    {
      "cell_type": "code",
      "source": [
        "# while loop\n",
        "i=0\n",
        "while(i!=10):\n",
        "   print(i)\n",
        "   i+=2"
      ],
      "metadata": {
        "colab": {
          "base_uri": "https://localhost:8080/"
        },
        "id": "nsstGxSJPeWm",
        "outputId": "734c1ac0-bcb7-4ddd-d2c5-e08ae5324263"
      },
      "execution_count": null,
      "outputs": [
        {
          "output_type": "stream",
          "name": "stdout",
          "text": [
            "0\n",
            "2\n",
            "4\n",
            "6\n",
            "8\n"
          ]
        }
      ]
    },
    {
      "cell_type": "code",
      "source": [
        "l1=[5,15,22,32,46,89]\n",
        "even=[]\n",
        "odd=[]\n",
        "\n",
        "while len(l1)>0:\n",
        "  l=l1.pop()\n",
        "  if l%2==0:\n",
        "    even.append(1)\n",
        "  else:\n",
        "      odd.append(1)\n",
        "      print(even)\n",
        "      print(odd)\n",
        "\n"
      ],
      "metadata": {
        "colab": {
          "base_uri": "https://localhost:8080/"
        },
        "id": "pIijgj9yRD_d",
        "outputId": "1c1b9e63-f320-4802-a203-7a90ae293aa6"
      },
      "execution_count": null,
      "outputs": [
        {
          "output_type": "stream",
          "name": "stdout",
          "text": [
            "[]\n",
            "[1]\n",
            "[1, 1, 1]\n",
            "[1, 1]\n",
            "[1, 1, 1]\n",
            "[1, 1, 1]\n"
          ]
        }
      ]
    },
    {
      "cell_type": "code",
      "source": [
        "''' WAp that allows the user to input the names untill the user decides to stop.Then,print all the names the user has entering'''"
      ],
      "metadata": {
        "id": "P7l6yYxMSxEM"
      },
      "execution_count": null,
      "outputs": []
    },
    {
      "cell_type": "markdown",
      "source": [
        "\n"
      ],
      "metadata": {
        "id": "aTj4eLe6VbPD"
      }
    },
    {
      "cell_type": "code",
      "source": [
        "names = []\n",
        "\n",
        "while True:\n",
        "    name = input(\"Enter a name (or 'q' to quit): \")\n",
        "    if name == \"q\":\n",
        "        break\n",
        "    names.append(name)\n",
        "\n",
        "print(\"You entered the following names:\")\n",
        "for name in names:\n",
        "    print(name)\n"
      ],
      "metadata": {
        "colab": {
          "base_uri": "https://localhost:8080/"
        },
        "id": "HovkbCGeVdDb",
        "outputId": "b8f5f3de-770b-4252-c43d-1da08a03f005"
      },
      "execution_count": null,
      "outputs": [
        {
          "output_type": "stream",
          "name": "stdout",
          "text": [
            "Enter a name (or 'q' to quit): punnya\n",
            "Enter a name (or 'q' to quit): ponuzz\n",
            "Enter a name (or 'q' to quit): q\n",
            "You entered the following names:\n",
            "punnya\n",
            "ponuzz\n"
          ]
        }
      ]
    },
    {
      "cell_type": "code",
      "source": [],
      "metadata": {
        "id": "0n07W8WCVt4q"
      },
      "execution_count": null,
      "outputs": []
    },
    {
      "cell_type": "code",
      "source": [],
      "metadata": {
        "id": "GiOmXYJqYAjp"
      },
      "execution_count": null,
      "outputs": []
    }
  ]
}